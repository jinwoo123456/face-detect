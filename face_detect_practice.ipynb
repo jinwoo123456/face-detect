{
 "cells": [
  {
   "cell_type": "markdown",
   "metadata": {},
   "source": [
    "1. ========================================================================\n",
    "얼굴을 인식해서 사각형 테두리 표시하기\n",
    "\n",
    "\n",
    " 원본 이미지 :\n",
    "resData/photo1.jpg\n",
    "\n",
    "프롬프트창에\n",
    "pip install opencv-python \n",
    "\n",
    "opencv : 이미지 처리용 파이썬 인공지능 라이브러리\n"
   ]
  },
  {
   "cell_type": "code",
   "execution_count": 15,
   "metadata": {},
   "outputs": [
    {
     "name": "stdout",
     "output_type": "stream",
     "text": [
      "cascade_file c:\\workspace\\face_detection\\.venv\\Lib\\site-packages\\cv2\\data\\haarcascade_frontalface_alt.xml\n",
      "[[402 479 354 354]]\n"
     ]
    }
   ],
   "source": [
    "\n",
    "\n",
    "import cv2\n",
    "\n",
    "# 입력 파일 지정\n",
    "image_file = \"./resData/photo1.jpg\"\n",
    "# 캐스케이드 파일의 경로 지정\n",
    "cascade_file = cv2.data.haarcascades + \"haarcascade_frontalface_alt.xml\"\n",
    "print('cascade_file', cascade_file)\n",
    "# 이미지 읽기\n",
    "image = cv2.imread(image_file)\n",
    "# 그레이스케일로 변환\n",
    "image_gs = cv2.cvtColor(image, cv2.COLOR_BGR2GRAY)\n",
    "# 얼굴인식을 위한 특징 파일 로드\n",
    "cascade = cv2.CascadeClassifier(cascade_file)\n",
    "# 얼굴 인식 실행\n",
    "face_list = cascade.detectMultiScale(image_gs, scaleFactor=1.1, minNeighbors=1, minSize=(150, 150))\n",
    "if len(face_list) > 0:\n",
    "    # 인식한 부분 표시\n",
    "    print(face_list)\n",
    "    color = (0, 0, 255)  # 빨간색\n",
    "    # 얼굴 영역에 테두리 표시\n",
    "    for face in face_list:\n",
    "        x, y, w, h = face\n",
    "        cv2.rectangle(image, (x, y), (x + w, y + h), color, thickness=8)\n",
    "    # 파일로 출력\n",
    "    cv2.imwrite(\"./saveFiles/photol-facedetect01.png\", image)\n",
    "else:\n",
    "    print(\"얼굴을 인식할 수 없습니다\")\n",
    "\n"
   ]
  },
  {
   "cell_type": "markdown",
   "metadata": {},
   "source": [
    "\n",
    "위는 얼굴의 위치와 크기를 나타내는 (x, y, width, height) 좌표이다.\n",
    "saveFiles/photol-facedetect01.png에서 확인이 가능하다\n"
   ]
  },
  {
   "cell_type": "markdown",
   "metadata": {},
   "source": [
    "2. ========================================================================\n",
    " 이미지의 얼굴을 인식해서 모자이크 처리하기\n",
    "\n",
    " 원본 이미지 :\n",
    "resData/photo2.jpg"
   ]
  },
  {
   "cell_type": "code",
   "execution_count": null,
   "metadata": {},
   "outputs": [
    {
     "name": "stdout",
     "output_type": "stream",
     "text": [
      "output ./resData/photo2-mosaic1.jpg\n",
      "[[599 481 205 205]\n",
      " [293 142 239 239]]\n"
     ]
    }
   ],
   "source": [
    "import cv2\n",
    "import sys\n",
    "import re\n",
    "#입력 파일 지정 (아나콘다 프롬프트에서 실행해야함)\n",
    "\n",
    "if len(sys.argv) <= 1:\n",
    "\tprint(\"no input file\")\n",
    "\tquit()\n",
    "image_file = \"./resData/photo2.jpg\"\n",
    "#image_file 경로에 -mosaic1.jpg를 붙임(저장용)\n",
    "output_file = re.sub(r'\\.jpg|jpeg|PNG$', '-mosaic1.jpg', image_file)\n",
    "print(\"output\", output_file)\n",
    "#모자이크 강도\n",
    "mosaic_rate = 30\n",
    "#캐스캐이드 파일 경로 지정\n",
    "cascade_file = cv2.data.haarcascades + \"haarcascade_frontalface_alt.xml\"\n",
    "#이미지를 Numpy 배열로 변환\n",
    "image = cv2.imread(image_file)\n",
    "#그레이스케일\n",
    "image_gs = cv2.cvtColor(image, cv2.COLOR_BGR2GRAY)\n",
    "#얼굴 인식 실행하기\n",
    "cascade = cv2.CascadeClassifier(cascade_file)\n",
    "face_list = cascade.detectMultiScale(image_gs,\n",
    "scaleFactor=1.1, minNeighbors=1, minSize=(100,100))\n",
    "#얼굴이 감지되지 않으면 프로그램 종료\n",
    "if len(face_list) == 0:\n",
    "\tprint(\"얼굴을 인식할 수 없습니다.\")\n",
    "\tquit()\n",
    "print(face_list)\n"
   ]
  },
  {
   "cell_type": "markdown",
   "metadata": {},
   "source": [
    "위는 파이썬의 선형대수같은 수학 계산을 위한 Numpy(수학용 배열로 만들어줌) 배열이다.\n",
    "Numpy 라이브러리를 이용한다. (openCV 설치하면 자동 임포트) \n",
    "\n",
    "따로 가져오고 싶으면\n",
    "pip install numpy"
   ]
  },
  {
   "cell_type": "code",
   "execution_count": 6,
   "metadata": {},
   "outputs": [
    {
     "data": {
      "text/plain": [
       "True"
      ]
     },
     "execution_count": 6,
     "metadata": {},
     "output_type": "execute_result"
    }
   ],
   "source": [
    "#확인한 부분을 모자이크로 처리\n",
    "color = (0, 0, 255)\n",
    "for (x,y,w,h) in face_list:\n",
    "# 얼굴 부분 자르기\n",
    "\tface_img = image[y:y+h, x:x+w]\n",
    "\t# 자른 이미지를 지정한 배율로 확대/축소하기\n",
    "\tface_img = cv2.resize(face_img, (w//mosaic_rate, h//mosaic_rate))\n",
    "\t#확대/축소한 그림을 원래 크기로 돌리기\n",
    "\tface_img = cv2.resize(face_img, (w, h), interpolation=cv2.INTER_AREA)\n",
    "\t# 원래 이미지에 붙이기\n",
    "\timage [y:y+h, x:x+w] = face_img\n",
    "# 렌더링 결과를 파일에 출력\n",
    "cv2.imwrite(output_file.replace(\"resData\", \"saveFiles\"), image)"
   ]
  },
  {
   "cell_type": "markdown",
   "metadata": {},
   "source": [
    "위 내용은 saveFiles/photo2-mosaic1.jpg 에서 확인이 가능하다.\n",
    "얼굴에 모자이크 처리가 되었다.\n"
   ]
  },
  {
   "cell_type": "markdown",
   "metadata": {},
   "source": [
    "3. ========================================================================\n",
    "이미지 내의 숫자 인식해서 외곽선 표시\n",
    "\n",
    "원본 이미지 resData/numbers.png"
   ]
  },
  {
   "cell_type": "code",
   "execution_count": 7,
   "metadata": {},
   "outputs": [
    {
     "name": "stdout",
     "output_type": "stream",
     "text": [
      "Task Finished..!!\n"
     ]
    }
   ],
   "source": [
    "import cv2\n",
    "\n",
    "# 숫자 인식을 위한 이미지 지정\n",
    "TEST_IMG = ['numbers.png', 'numbers_contour.png']\n",
    "\n",
    "# 이미지 로드\n",
    "im = cv2.imread(f'./resData/{TEST_IMG[0]}')\n",
    "\n",
    "# 그레이스케일로 변환\n",
    "gray = cv2.cvtColor(im, cv2.COLOR_BGR2GRAY)\n",
    "\n",
    "# 가우시안 블러를 적용하여 노이즈를 제거\n",
    "blur = cv2.GaussianBlur(gray, (5, 5), 0)\n",
    "\n",
    "# 적응형 이진화 적용\n",
    "thresh = cv2.adaptiveThreshold(blur, 255, cv2.ADAPTIVE_THRESH_GAUSSIAN_C, cv2.THRESH_BINARY, 11, 2)\n",
    "\n",
    "# 윤곽 추출하기\n",
    "contours, _ = cv2.findContours(thresh, cv2.RETR_LIST, cv2.CHAIN_APPROX_SIMPLE)\n",
    "\n",
    "# 추출한 윤곽을 반복 처리하기\n",
    "for cnt in contours:\n",
    "    # 윤곽을 감싸는 바운딩 박스 좌표 계산\n",
    "    x, y, w, h = cv2.boundingRect(cnt)\n",
    "    # 높이가 20 미만이면 무시\n",
    "    if h < 20:\n",
    "        continue\n",
    "    red = (0, 0, 255)\n",
    "    # 바운딩 박스를 빨간색으로 표시\n",
    "    cv2.rectangle(im, (x, y), (x + w, y + h), red, 2)\n",
    "\n",
    "# 윤곽선을 표시한 이미지 저장\n",
    "cv2.imwrite(f'./saveFiles/{TEST_IMG[1]}', im)\n",
    "print(\"Task Finished..!!\")"
   ]
  }
 ],
 "metadata": {
  "kernelspec": {
   "display_name": ".venv",
   "language": "python",
   "name": "python3"
  },
  "language_info": {
   "codemirror_mode": {
    "name": "ipython",
    "version": 3
   },
   "file_extension": ".py",
   "mimetype": "text/x-python",
   "name": "python",
   "nbconvert_exporter": "python",
   "pygments_lexer": "ipython3",
   "version": "3.13.0"
  }
 },
 "nbformat": 4,
 "nbformat_minor": 2
}
